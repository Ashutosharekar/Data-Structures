{
  "nbformat": 4,
  "nbformat_minor": 0,
  "metadata": {
    "colab": {
      "provenance": []
    },
    "kernelspec": {
      "name": "python3",
      "display_name": "Python 3"
    },
    "language_info": {
      "name": "python"
    }
  },
  "cells": [
    {
      "cell_type": "markdown",
      "source": [
        "#Data Structures Assignment\n",
        "\n",
        "\n",
        "1. What are data structures, and why are they important ?\n",
        " - Data structures are ways of organizing and storing data in a computer so    that we can use it efficiently. They’re important because they make it easier  to manage data, improve performance, and solve problems faster.\n",
        "\n",
        "2. Explain the difference between mutable and immutable data types with examples.\n",
        " - Mutable types can be changed after creation like lists and dictionaries, while immutable types cannot be changed like strings and tuples. For example, we can add items to a list, but once a tuple is made, its values cannot be altered.\n",
        "\n",
        "3. What are the main differences between lists and tuples in Python ?\n",
        " - The main differences between lists and tuples is that Lists are mutable, slower, and written with square brackets [] ; whereas Tuples are immutable, faster, and written with parentheses ().\n",
        "\n",
        "4. Describe how dictionaries store data.\n",
        " - Dictionaries store data as key–value pairs. Each key is unique, and it points to a specific value, making it easy to access data directly using the key. Keys and values can be of various data types (strings, numbers, lists, and even other dictionaries).\n",
        "\n",
        "5. Why might you use a set instead of a list in Python ?\n",
        " - We use a set when we want only unique values without duplicates and when we don’t care about the order of elements.\n",
        "\n",
        "6. What is a string in Python, and how is it different from a list ?\n",
        " - A string is a sequence of characters, while a list is a sequence of elements of any data types. Strings are immutable, but lists are mutable.\n",
        "\n",
        "7. How do tuples ensure data integrity in Python ?\n",
        " - Since tuples are immutable, their values cannot be changed, which ensures that the stored data remains safe and consistent. Thus Tuples ensure data integrity in python.\n",
        "\n",
        "8. What is a hash table, and how does it relate to dictionaries in Python ?\n",
        " - A hash table is a structure that maps keys to values using hash functions. Python dictionaries are built using hash tables, which makes lookups very fast.\n",
        "\n",
        "9. Can lists contain different data types in Python ?\n",
        " - Yes, lists can hold elements of different types, like numbers, strings, and even other lists.\n",
        "\n",
        "10. Explain why strings are immutable in Python.\n",
        " - Strings are immutable so that they are memory-efficient, safe from accidental changes, and can be used as keys in dictionaries.\n",
        "\n",
        "11. What advantages do dictionaries offer over lists for certain tasks ?\n",
        " - Dictionaries provide faster lookups using keys, while lists require searching through elements one by one. This makes dictionaries better for quick data retrieval.\n",
        "\n",
        "12. Describe a scenario where using a tuple would be preferable over a list.\n",
        " - If we want to store fixed data like the coordinates of a point (x, y), using a tuple is better since the values should not change.\n",
        "\n",
        "    Example:\n",
        "     -  When storing fixed data like dates or coordinates.\n",
        "\n",
        "\n",
        "\n",
        "\n",
        "\n",
        "\n",
        "\n",
        "\n"
      ],
      "metadata": {
        "id": "UFFiSI0kU7kD"
      }
    },
    {
      "cell_type": "code",
      "execution_count": null,
      "metadata": {
        "id": "2daxPMzbU5re"
      },
      "outputs": [],
      "source": [
        "dob = (25, \"March\", 2000)\n",
        "#or\n",
        "coordinates = (2,4)"
      ]
    },
    {
      "cell_type": "markdown",
      "source": [
        "13. How do sets handle duplicate values in Python ?\n",
        " - Sets handle duplicate values in Python by automatically removing the duplicates , so that only unique values are stored.\n",
        "\n",
        "14. How does the \"in\" keyword work differently for lists and dictionaries ?\n",
        " - In a list, \"in\" checks if a value exists in the list. In a dictionary, \"in\" checks if a key exists, not the value.\n",
        "\n",
        "15. Can you modify the elements of a tuple? Explain why or why not.\n",
        " - No, we cannot modify tuple elements because tuples are immutable, which means they cannot be changed once created.\n",
        "\n",
        "16. What is a nested dictionary, and give an example of its use case ?\n",
        " - A nested dictionary is a dictionary inside another dictionary. It’s useful for storing structured data, like student records with subjects and marks.\n",
        "\n",
        "    Example:"
      ],
      "metadata": {
        "id": "BVfpW3Llbwvh"
      }
    },
    {
      "cell_type": "code",
      "source": [
        "students = {\n",
        "    \"101\": {\"name\": \"Riya\", \"marks\": 85},\n",
        "    \"102\": {\"name\": \"Aman\", \"marks\": 90}\n",
        "}"
      ],
      "metadata": {
        "id": "lnwECLHndtPt"
      },
      "execution_count": null,
      "outputs": []
    },
    {
      "cell_type": "markdown",
      "source": [
        "17. Describe the time complexity of accessing elements in a dictionary ?\n",
        " - Accessing elements in a dictionary is generally O(1), meaning it’s very fast because it uses hashing.\n",
        "\n",
        "18. In what situations are lists preferred over dictionaries ?\n",
        " - Lists are better when we care about the order of elements or when we just need a simple collection without key–value pairs.\n",
        "\n",
        "19. Why are dictionaries considered unordered, and how does that affect data retrieval  ?\n",
        " - Dictionaries are considered unordered because keys are stored based on hashing, not in sequence. This means that we can’t rely on the order of elements when retrieving data.\n",
        "\n",
        "20. Explain the difference between a list and a dictionary in terms of data retrieval.\n",
        " - In a list, we retrieve data using an index (position), while in a dictionary, we retrieve data using a key.\n",
        "    \n",
        "    Example:\n"
      ],
      "metadata": {
        "id": "cwf0wm_Odx_i"
      }
    },
    {
      "cell_type": "code",
      "source": [
        "mylist = [\"red\", \"blue\", \"green\"]\n",
        "mydict = {\"r\": \"red\", \"b\": \"blue\"}\n",
        "\n",
        "print(mylist[0])     # by index\n",
        "print(mydict[\"r\"])   # by key"
      ],
      "metadata": {
        "id": "fVWR9TYle6Xo",
        "colab": {
          "base_uri": "https://localhost:8080/"
        },
        "outputId": "24525c82-fd62-4cee-83cd-c6caf9b6eba0"
      },
      "execution_count": 43,
      "outputs": [
        {
          "output_type": "stream",
          "name": "stdout",
          "text": [
            "red\n",
            "red\n"
          ]
        }
      ]
    },
    {
      "cell_type": "markdown",
      "source": [
        "# Practical Questions"
      ],
      "metadata": {
        "id": "05bvAMjkfLY4"
      }
    },
    {
      "cell_type": "code",
      "source": [
        "#1. Write a code to create a string with your name and print it.\n",
        "my_name= \"Ashutosh\"\n",
        "print(my_name)"
      ],
      "metadata": {
        "colab": {
          "base_uri": "https://localhost:8080/"
        },
        "id": "5S7U0xlxfDDY",
        "outputId": "de8fb8d0-282d-491a-dfb3-337e1249455a"
      },
      "execution_count": null,
      "outputs": [
        {
          "output_type": "stream",
          "name": "stdout",
          "text": [
            "Ashutosh\n"
          ]
        }
      ]
    },
    {
      "cell_type": "code",
      "source": [
        "#2. Write a code to find the length of the string \"Hello World\".\n",
        "text = \"Hello World\"\n",
        "print(len(text))"
      ],
      "metadata": {
        "colab": {
          "base_uri": "https://localhost:8080/"
        },
        "id": "8i6nzsEogTQm",
        "outputId": "b2dda5ca-f31b-4b32-8d90-2110b3038cee"
      },
      "execution_count": 2,
      "outputs": [
        {
          "output_type": "stream",
          "name": "stdout",
          "text": [
            "11\n"
          ]
        }
      ]
    },
    {
      "cell_type": "code",
      "source": [
        "#3. Write a code to slice the first 3 characters from the string \"Python Programming.\n",
        "text = \"Python Programming\"\n",
        "print(text[:3])"
      ],
      "metadata": {
        "colab": {
          "base_uri": "https://localhost:8080/"
        },
        "id": "RLuw2YC7gdMC",
        "outputId": "17c781c0-5a66-4d69-9e51-ae86005c1919"
      },
      "execution_count": 5,
      "outputs": [
        {
          "output_type": "stream",
          "name": "stdout",
          "text": [
            "Pyt\n"
          ]
        }
      ]
    },
    {
      "cell_type": "code",
      "source": [
        "#4. Write a code to convert the string \"hello\" to uppercase.\n",
        "s = \"hello\"\n",
        "print(s.upper())"
      ],
      "metadata": {
        "colab": {
          "base_uri": "https://localhost:8080/"
        },
        "id": "zSaJtQfLhCgS",
        "outputId": "295438e1-7234-4b35-f71e-e0ca120b6ac2"
      },
      "execution_count": 6,
      "outputs": [
        {
          "output_type": "stream",
          "name": "stdout",
          "text": [
            "HELLO\n"
          ]
        }
      ]
    },
    {
      "cell_type": "code",
      "source": [
        "#5. Write a code to replace the word \"apple\" with \"orange\" in the string \"I like apple\"P\n",
        "text = \"I like apple\"\n",
        "print(text.replace(\"apple\", \"orange\"))"
      ],
      "metadata": {
        "colab": {
          "base_uri": "https://localhost:8080/"
        },
        "id": "14WkkornhR6S",
        "outputId": "7c450293-bdee-4a88-8484-258ed0a416be"
      },
      "execution_count": 7,
      "outputs": [
        {
          "output_type": "stream",
          "name": "stdout",
          "text": [
            "I like orange\n"
          ]
        }
      ]
    },
    {
      "cell_type": "code",
      "source": [
        "#6. Write a code to create a list with numbers 1 to 5 and print it.\n",
        "mylist = [1,2,3,4,5]\n",
        "print(mylist)"
      ],
      "metadata": {
        "colab": {
          "base_uri": "https://localhost:8080/"
        },
        "id": "dBuBUOdRhgUH",
        "outputId": "11418a96-fb63-44df-e66f-f0ac708793dc"
      },
      "execution_count": 8,
      "outputs": [
        {
          "output_type": "stream",
          "name": "stdout",
          "text": [
            "[1, 2, 3, 4, 5]\n"
          ]
        }
      ]
    },
    {
      "cell_type": "code",
      "source": [
        "#7. Write a code to append the number 10 to the list [1, 2, 3, 4].\n",
        "mylist = [1,2,3,4]\n",
        "mylist.append(10)\n",
        "print(mylist)"
      ],
      "metadata": {
        "colab": {
          "base_uri": "https://localhost:8080/"
        },
        "id": "ObalLVCUh4cF",
        "outputId": "2488bae0-3b6f-4e4e-bc0f-864c58b01a11"
      },
      "execution_count": 9,
      "outputs": [
        {
          "output_type": "stream",
          "name": "stdout",
          "text": [
            "[1, 2, 3, 4, 10]\n"
          ]
        }
      ]
    },
    {
      "cell_type": "code",
      "source": [
        "#8. Write a code to remove the number 3 from the list [1, 2, 3, 4, 5].\n",
        "mylist = [1,2,3,4,5]\n",
        "mylist.remove(3)\n",
        "print(mylist)"
      ],
      "metadata": {
        "colab": {
          "base_uri": "https://localhost:8080/"
        },
        "id": "FMHZkVhSh-Rf",
        "outputId": "29a9e3a7-8fc9-41b4-a2ba-75c0877fa87f"
      },
      "execution_count": 10,
      "outputs": [
        {
          "output_type": "stream",
          "name": "stdout",
          "text": [
            "[1, 2, 4, 5]\n"
          ]
        }
      ]
    },
    {
      "cell_type": "code",
      "source": [
        "#9. Write a code to access the second element in the list ['a', 'b', 'c', 'd').\n",
        "mylist = ['a', 'b', 'c', 'd']\n",
        "print(mylist[1])\n"
      ],
      "metadata": {
        "colab": {
          "base_uri": "https://localhost:8080/"
        },
        "id": "ZolCcSoDiFXH",
        "outputId": "fac46fe4-51e0-4a6e-aebf-81c6ed3333ac"
      },
      "execution_count": 11,
      "outputs": [
        {
          "output_type": "stream",
          "name": "stdout",
          "text": [
            "b\n"
          ]
        }
      ]
    },
    {
      "cell_type": "code",
      "source": [
        "#10. Write a code to reverse the list [10, 20, 30, 40, 50).\n",
        "\n",
        "mylist = [10, 20, 30, 40, 50]\n",
        "mylist.reverse()\n",
        "print(mylist)"
      ],
      "metadata": {
        "colab": {
          "base_uri": "https://localhost:8080/"
        },
        "id": "_r-7UFO3ijsg",
        "outputId": "5bc3a843-9f86-4ce3-c584-00a6246be232"
      },
      "execution_count": 16,
      "outputs": [
        {
          "output_type": "stream",
          "name": "stdout",
          "text": [
            "[50, 40, 30, 20, 10]\n"
          ]
        }
      ]
    },
    {
      "cell_type": "code",
      "source": [
        "#11. Write a code to create a tuple with the elements 100, 200, 300 and print it.\n",
        "mytuple = (100, 200, 300)\n",
        "print(mytuple)"
      ],
      "metadata": {
        "colab": {
          "base_uri": "https://localhost:8080/"
        },
        "id": "SejNX8uqizCf",
        "outputId": "a6c40ef8-370a-4c85-d656-f1d505437e23"
      },
      "execution_count": 17,
      "outputs": [
        {
          "output_type": "stream",
          "name": "stdout",
          "text": [
            "(100, 200, 300)\n"
          ]
        }
      ]
    },
    {
      "cell_type": "code",
      "source": [
        "#12. Write a code to access the second-to-last element of the tuple ('red', 'green', 'blue', 'yellow').\n",
        "mytuple = ('red', 'green', 'blue', 'yellow')\n",
        "print(mytuple[-2])"
      ],
      "metadata": {
        "colab": {
          "base_uri": "https://localhost:8080/"
        },
        "id": "0LU8ILJtj5Ne",
        "outputId": "975d2e7e-a1dd-4363-dfc9-d13c5474d3c3"
      },
      "execution_count": 22,
      "outputs": [
        {
          "output_type": "stream",
          "name": "stdout",
          "text": [
            "blue\n"
          ]
        }
      ]
    },
    {
      "cell_type": "code",
      "source": [
        "#13. Write a code to find the minimum number in the tuple (10, 20, 5, 15).\n",
        "mytuple = (10, 20, 5, 15)\n",
        "print(min(mytuple))"
      ],
      "metadata": {
        "colab": {
          "base_uri": "https://localhost:8080/"
        },
        "id": "8vfeOrfBkuT1",
        "outputId": "980199c7-d4a9-4800-d690-f9d7a47c6a5d"
      },
      "execution_count": 42,
      "outputs": [
        {
          "output_type": "stream",
          "name": "stdout",
          "text": [
            "5\n"
          ]
        }
      ]
    },
    {
      "cell_type": "code",
      "source": [
        "#14. Write a code to find the index of the element \"cat\" in the tuple ('dog', 'cat', 'rabbit').\n",
        "my_tuple = ('dog', 'cat', 'rabbit')\n",
        "print(my_tuple.index(\"cat\"))"
      ],
      "metadata": {
        "colab": {
          "base_uri": "https://localhost:8080/"
        },
        "id": "hhijHY7fk4Uj",
        "outputId": "4712391f-21c5-4bfa-b5c4-52bdddb28568"
      },
      "execution_count": 23,
      "outputs": [
        {
          "output_type": "stream",
          "name": "stdout",
          "text": [
            "1\n"
          ]
        }
      ]
    },
    {
      "cell_type": "code",
      "source": [
        "#15. Write a code to create a tuple containing three different fruits and check if \"kiwi\" is in it.\n",
        "mytuple = (\"apple\", \"banana\", \"cherry\")\n",
        "print(\"kiwi\" in mytuple)"
      ],
      "metadata": {
        "colab": {
          "base_uri": "https://localhost:8080/"
        },
        "id": "ydMtOvPglPOT",
        "outputId": "e1f072f5-7e5b-4cc4-dcf3-1ab49a6d26f3"
      },
      "execution_count": 24,
      "outputs": [
        {
          "output_type": "stream",
          "name": "stdout",
          "text": [
            "False\n"
          ]
        }
      ]
    },
    {
      "cell_type": "code",
      "source": [
        "#16. Write a code to create a set with the elements 'a', 'b', 'c' and print it.\n",
        "myset = {'a', 'b', 'c'}\n",
        "print(myset)"
      ],
      "metadata": {
        "colab": {
          "base_uri": "https://localhost:8080/"
        },
        "id": "66ew11YElnw9",
        "outputId": "7fa85177-0b6d-4062-e579-3d8195724de7"
      },
      "execution_count": 25,
      "outputs": [
        {
          "output_type": "stream",
          "name": "stdout",
          "text": [
            "{'b', 'a', 'c'}\n"
          ]
        }
      ]
    },
    {
      "cell_type": "code",
      "source": [
        "#17. Write a code to clear all elements from the set {1, 2, 3, 4, 5}.\n",
        "myset = {1, 2, 3, 4, 5}\n",
        "myset.clear()\n",
        "print(myset)"
      ],
      "metadata": {
        "colab": {
          "base_uri": "https://localhost:8080/"
        },
        "id": "UYgio7MxltD8",
        "outputId": "174d5b26-ce82-446b-9b1b-5eebf0f187c7"
      },
      "execution_count": 26,
      "outputs": [
        {
          "output_type": "stream",
          "name": "stdout",
          "text": [
            "set()\n"
          ]
        }
      ]
    },
    {
      "cell_type": "code",
      "source": [
        "#18. Write a code to remove the element 4 from the set {1, 2, 3, 4}.\n",
        "myset = {1, 2, 3, 4}\n",
        "myset.remove(4)\n",
        "print(myset)"
      ],
      "metadata": {
        "colab": {
          "base_uri": "https://localhost:8080/"
        },
        "id": "Bepc6Mp9lzQf",
        "outputId": "abe3266b-29fd-4250-dedd-f957b827df69"
      },
      "execution_count": 27,
      "outputs": [
        {
          "output_type": "stream",
          "name": "stdout",
          "text": [
            "{1, 2, 3}\n"
          ]
        }
      ]
    },
    {
      "cell_type": "code",
      "source": [
        "#19. Write a code to find the union of two sets {1, 2, 3} and {3, 4, 5}.\n",
        "set1 = {1, 2, 3}\n",
        "set2 = {3, 4, 5}\n",
        "print(set1.union(set2))"
      ],
      "metadata": {
        "colab": {
          "base_uri": "https://localhost:8080/"
        },
        "id": "RJ6NTik7l-KV",
        "outputId": "82661331-2676-4609-ba0d-7f0a7f236cb3"
      },
      "execution_count": 28,
      "outputs": [
        {
          "output_type": "stream",
          "name": "stdout",
          "text": [
            "{1, 2, 3, 4, 5}\n"
          ]
        }
      ]
    },
    {
      "cell_type": "code",
      "source": [
        "#20. Write a code to find the intersection of two sets {1, 2, 3} and {2, 3, 4].\n",
        "set1 = {1, 2, 3}\n",
        "set2 = {2, 3, 4}\n",
        "print(set1.intersection(set2))\n"
      ],
      "metadata": {
        "colab": {
          "base_uri": "https://localhost:8080/"
        },
        "id": "7Ye5CwUpmIaO",
        "outputId": "50098907-9e09-4fd5-ba05-ab61bd655020"
      },
      "execution_count": 29,
      "outputs": [
        {
          "output_type": "stream",
          "name": "stdout",
          "text": [
            "{2, 3}\n"
          ]
        }
      ]
    },
    {
      "cell_type": "code",
      "source": [
        "#21.  Write a code to create a dictionary with the keys \"name\", \"age\", and \"city\", and print it.\n",
        "mydict = { \"name\" : \"john\" , \"age\": 22 , \"city\": \"delhi\"}\n",
        "print(mydict)"
      ],
      "metadata": {
        "colab": {
          "base_uri": "https://localhost:8080/"
        },
        "id": "vkyv5Wzqmk8T",
        "outputId": "d9adc054-b581-4b60-fba9-7877b0b816a1"
      },
      "execution_count": 30,
      "outputs": [
        {
          "output_type": "stream",
          "name": "stdout",
          "text": [
            "{'name': 'john', 'age': 22, 'city': 'delhi'}\n"
          ]
        }
      ]
    },
    {
      "cell_type": "code",
      "source": [
        "#22. Write a code to add a new key-value pair \"country\": \"USA\" to the dictionary {'name': 'John', 'age': 25}.\n",
        "mydict = {'name': 'John', 'age': 25}\n",
        "mydict[\"country\"] = \"USA\"\n",
        "print(mydict)"
      ],
      "metadata": {
        "colab": {
          "base_uri": "https://localhost:8080/"
        },
        "id": "TYQ_ij1-nLWo",
        "outputId": "80be56d1-081a-4246-b202-e95f83aa6c41"
      },
      "execution_count": 31,
      "outputs": [
        {
          "output_type": "stream",
          "name": "stdout",
          "text": [
            "{'name': 'John', 'age': 25, 'country': 'USA'}\n"
          ]
        }
      ]
    },
    {
      "cell_type": "code",
      "source": [
        "#23. Write a code to access the value associated with the key \"name\" in the dictionary {'name': 'Alice', 'age': 30}.\n",
        "mydict = {'name': 'Alice', 'age': 30}\n",
        "print(mydict[\"name\"])\n"
      ],
      "metadata": {
        "colab": {
          "base_uri": "https://localhost:8080/"
        },
        "id": "HmqYEAGPnXDr",
        "outputId": "fe59e802-66ef-41f0-f75a-03467ab61961"
      },
      "execution_count": 32,
      "outputs": [
        {
          "output_type": "stream",
          "name": "stdout",
          "text": [
            "Alice\n"
          ]
        }
      ]
    },
    {
      "cell_type": "code",
      "source": [
        "#24. Write a code to remove the key \"age\" from the dictionary {'name': 'Bob', 'age': 22, 'city': 'New York'}.\n",
        "mydict = {'name': 'Bob', 'age': 22, 'city': 'New York'}\n",
        "del mydict[\"age\"]\n",
        "print(mydict)"
      ],
      "metadata": {
        "colab": {
          "base_uri": "https://localhost:8080/"
        },
        "id": "pF2USC8Snh5D",
        "outputId": "e1b7a29b-c690-457f-8670-5d8f94711806"
      },
      "execution_count": 33,
      "outputs": [
        {
          "output_type": "stream",
          "name": "stdout",
          "text": [
            "{'name': 'Bob', 'city': 'New York'}\n"
          ]
        }
      ]
    },
    {
      "cell_type": "code",
      "source": [
        "#25. Write a code to check if the key \"city\" exists in the dictionary {'name': 'Alice', 'city': 'Paris'}.\n",
        "mydict = {'name': 'Alice', 'city': 'Paris'}\n",
        "print(\"city\" in mydict)"
      ],
      "metadata": {
        "colab": {
          "base_uri": "https://localhost:8080/"
        },
        "id": "gYJOAHvnnu0D",
        "outputId": "e7d55017-e9a9-4a60-c915-d0e869751d30"
      },
      "execution_count": 34,
      "outputs": [
        {
          "output_type": "stream",
          "name": "stdout",
          "text": [
            "True\n"
          ]
        }
      ]
    },
    {
      "cell_type": "code",
      "source": [
        "#26. Write a code to create a list, a tuple, and a dictionary, and print them all.\n",
        "mylist = [1,2,3,4]\n",
        "mytuple = (5,6,7,8)\n",
        "mydict = {\"name\" : \"john\" , \"age\": 22 , \"city\": \"delhi\"}\n",
        "print(\"List:\",mylist)\n",
        "print(\"Tuple:\",mytuple)\n",
        "print(\"Dictionary:\",mydict)"
      ],
      "metadata": {
        "colab": {
          "base_uri": "https://localhost:8080/"
        },
        "id": "bEjWMkhXn2VA",
        "outputId": "d5497c67-c32a-47b1-e0ce-9232a692e8ce"
      },
      "execution_count": 36,
      "outputs": [
        {
          "output_type": "stream",
          "name": "stdout",
          "text": [
            "List: [1, 2, 3, 4]\n",
            "Tuple: (5, 6, 7, 8)\n",
            "Dictionary: {'name': 'john', 'age': 22, 'city': 'delhi'}\n"
          ]
        }
      ]
    },
    {
      "cell_type": "code",
      "source": [
        "#27. Write a code to create a list of 5 random numbers between 1 and 100, sort it in ascending order, and print the result.(replaced)\n",
        "import random\n",
        "mylist = random.sample(range(1, 101), 5)\n",
        "mylist.sort()\n",
        "print(mylist)\n",
        "\n"
      ],
      "metadata": {
        "colab": {
          "base_uri": "https://localhost:8080/"
        },
        "id": "2w6Hkb6xobkR",
        "outputId": "42cbd886-6836-4129-9014-7a757fe7de26"
      },
      "execution_count": 38,
      "outputs": [
        {
          "output_type": "stream",
          "name": "stdout",
          "text": [
            "[17, 18, 37, 38, 95]\n"
          ]
        }
      ]
    },
    {
      "cell_type": "code",
      "source": [
        "#28. Write a code to create a list with strings and print the element at the third index.\n",
        "mylist = [\"apple\", \"banana\", \"cherry\", \"date\", \"elderberry\"]\n",
        "print(mylist[2])"
      ],
      "metadata": {
        "colab": {
          "base_uri": "https://localhost:8080/"
        },
        "id": "bo9T3YCdpEKZ",
        "outputId": "af51ba19-cae0-4858-82fb-4488ee7839ec"
      },
      "execution_count": 39,
      "outputs": [
        {
          "output_type": "stream",
          "name": "stdout",
          "text": [
            "cherry\n"
          ]
        }
      ]
    },
    {
      "cell_type": "code",
      "source": [
        "#29. Write a code to combine two dictionaries into one and print the result.\n",
        "dict1 = {'a': 1, 'b': 2}\n",
        "dict2 = {'c': 3, 'd': 4}\n",
        "dict1.update(dict2)\n",
        "print(dict1)"
      ],
      "metadata": {
        "colab": {
          "base_uri": "https://localhost:8080/"
        },
        "id": "McBf_zvPpQAW",
        "outputId": "2d7d9127-b0ea-4b3f-b93b-a7886811e56a"
      },
      "execution_count": 40,
      "outputs": [
        {
          "output_type": "stream",
          "name": "stdout",
          "text": [
            "{'a': 1, 'b': 2, 'c': 3, 'd': 4}\n"
          ]
        }
      ]
    },
    {
      "cell_type": "code",
      "source": [
        "#30. Write a code to convert a list of strings into a set.\n",
        "fruits = [\"apple\", \"banana\", \"apple\", \"cherry\"]\n",
        "fruits_set = set(fruits)\n",
        "print(fruits_set)"
      ],
      "metadata": {
        "colab": {
          "base_uri": "https://localhost:8080/"
        },
        "id": "LdHJL92dpZaa",
        "outputId": "dae07c80-cc81-4cf3-dec0-891676219cac"
      },
      "execution_count": 41,
      "outputs": [
        {
          "output_type": "stream",
          "name": "stdout",
          "text": [
            "{'banana', 'cherry', 'apple'}\n"
          ]
        }
      ]
    }
  ]
}